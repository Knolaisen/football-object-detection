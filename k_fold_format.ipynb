{
 "cells": [
  {
   "cell_type": "code",
   "execution_count": null,
   "id": "2335acea",
   "metadata": {},
   "outputs": [],
   "source": [
    "import os\n",
    "import yaml\n",
    "import pandas as pd"
   ]
  },
  {
   "cell_type": "code",
   "execution_count": null,
   "id": "bd888d98",
   "metadata": {},
   "outputs": [],
   "source": [
    "image_directory = \"data/rbk_structured/images/train/\"\n",
    "labels_directory = \"data/rbk_structured/labels/train/\"\n",
    "k_fold_directory = \"k_fold/\"\n",
    "\n"
   ]
  },
  {
   "cell_type": "code",
   "execution_count": null,
   "id": "38ca52cd",
   "metadata": {},
   "outputs": [],
   "source": [
    "number_of_folds = 5\n",
    "number_of_images = 3604\n",
    "\n",
    "folder_prefix =  \"/work/krisnol/football-object-detection/data/k_fold\""
   ]
  },
  {
   "cell_type": "code",
   "execution_count": null,
   "id": "a720f269",
   "metadata": {},
   "outputs": [],
   "source": [
    "for i in range(number_of_folds):\n",
    "    # create directories\n",
    "    os.makedirs(os.path.join(folder_prefix, str(i)), exist_ok=True)\n",
    "    os.makedirs(os.path.join(folder_prefix, str(i), \"images\", \"train\"), exist_ok=True)\n",
    "    os.makedirs(os.path.join(folder_prefix, str(i), \"images\", \"val\"), exist_ok=True)\n",
    "    os.makedirs(os.path.join(folder_prefix, str(i), \"labels\", \"train\"), exist_ok=True)\n",
    "    os.makedirs(os.path.join(folder_prefix, str(i), \"labels\", \"val\"), exist_ok=True)\n",
    "\n",
    "    # create data.yaml file\n",
    "    data_yaml = {\n",
    "        \"train\": \"/work/krisnol/football-object-detection/data/k_fold/\" + str(i) + \"/images/train\",\n",
    "        \"val\": \"/work/krisnol/football-object-detection/data/k_fold/\" + str(i) + \"/images/val\",\n",
    "        \"nc\": 2 ,\n",
    "        \"names\": {0: \"ball\", 1: \"player\"}\n",
    "    }\n",
    "\n",
    "    data_yaml_path = os.path.join(folder_prefix, str(i), \"data.yaml\")\n",
    "    with open(data_yaml_path, 'w') as file:\n",
    "        yaml.dump(data_yaml, file, default_flow_style=False)\n",
    "\n",
    "\n",
    "    train_indices = []\n",
    "    val_indices = []\n",
    "    for j in range(1, number_of_images +1):\n",
    "        if j % number_of_folds == i:\n",
    "            val_indices.append(j)\n",
    "        else:\n",
    "            train_indices.append(j)\n",
    "    \n",
    "    for index in train_indices:\n",
    "        # copy images\n",
    "        image_file = os.path.join(image_directory, str(index) + \".jpg\")\n",
    "        os.system(f\"cp {image_file} {os.path.join(folder_prefix, str(i), 'images', 'train')}\")\n",
    "        \n",
    "        # copy labels\n",
    "        label_file = os.path.join(labels_directory, str(index) + \".txt\")\n",
    "        os.system(f\"cp {label_file} {os.path.join(folder_prefix, str(i), 'labels', 'train')}\")\n",
    "    for index in val_indices:\n",
    "        # copy images\n",
    "        image_file = os.path.join(image_directory, str(index) + \".jpg\")\n",
    "        os.system(f\"cp {image_file} {os.path.join(folder_prefix, str(i), 'images', 'val')}\")\n",
    "        \n",
    "        # copy labels\n",
    "        label_file = os.path.join(labels_directory, str(index) + \".txt\")\n",
    "        os.system(f\"cp {label_file} {os.path.join(folder_prefix, str(i), 'labels', 'val')}\")\n"
   ]
  }
 ],
 "metadata": {
  "kernelspec": {
   "display_name": "Python 3",
   "language": "python",
   "name": "python3"
  },
  "language_info": {
   "codemirror_mode": {
    "name": "ipython",
    "version": 3
   },
   "file_extension": ".py",
   "mimetype": "text/x-python",
   "name": "python",
   "nbconvert_exporter": "python",
   "pygments_lexer": "ipython3",
   "version": "3.10.12"
  }
 },
 "nbformat": 4,
 "nbformat_minor": 5
}
