{
 "cells": [
  {
   "cell_type": "code",
   "execution_count": null,
   "metadata": {},
   "outputs": [],
   "source": [
    "import pandas as pd"
   ]
  },
  {
   "cell_type": "code",
   "execution_count": null,
   "metadata": {},
   "outputs": [],
   "source": [
    "path_1 = \"data/rbk/1_train-val_1min_aalesund_from_start/gt/gt.txt\"\n",
    "path_2 = \"data/rbk/2_train-val_1min_after_goal/gt/gt.txt\"\n",
    "labels_folder_path = \"rbk_structured/train/labels/\""
   ]
  },
  {
   "cell_type": "code",
   "execution_count": null,
   "metadata": {},
   "outputs": [],
   "source": [
    "dataframe_1 = pd.read_csv(path_1, sep=\",\", header=None)\n",
    "dataframe_2 = pd.read_csv(path_2, sep=\",\", header=None)"
   ]
  },
  {
   "cell_type": "code",
   "execution_count": null,
   "metadata": {},
   "outputs": [],
   "source": [
    "dataframe_1.head(24)"
   ]
  },
  {
   "cell_type": "code",
   "execution_count": null,
   "metadata": {},
   "outputs": [],
   "source": [
    "dataframe_2[0] = dataframe_2[0] + 1802\n",
    "dataframe_2[0]"
   ]
  },
  {
   "cell_type": "code",
   "execution_count": null,
   "metadata": {},
   "outputs": [],
   "source": [
    "combined = pd.concat([dataframe_1, dataframe_2])\n",
    "combined.tail()"
   ]
  },
  {
   "cell_type": "code",
   "execution_count": null,
   "metadata": {},
   "outputs": [],
   "source": [
    "combined.rename(columns={0: \"frame\", 1: \"object_number\", 2: \"x_center\", 3: \"y_center\", 4: \"width\", 5: \"height\", 6: \"off_screen\", 7: \"class\", 8: \"idk\"}, inplace=True)\n",
    "combined.drop(columns=[\"off_screen\", \"idk\"], inplace=True)\n",
    "combined"
   ]
  },
  {
   "cell_type": "code",
   "execution_count": null,
   "metadata": {},
   "outputs": [],
   "source": [
    "# normalize the coordinates\n",
    "combined[\"x_center\"] = combined[\"x_center\"] / 1920\n",
    "combined[\"y_center\"] = combined[\"y_center\"] / 1080\n",
    "combined[\"width\"] = combined[\"width\"] / 1920\n",
    "combined[\"height\"] = combined[\"height\"] / 1080"
   ]
  },
  {
   "cell_type": "code",
   "execution_count": null,
   "metadata": {},
   "outputs": [],
   "source": [
    "def save_to_file(dataframe, picture_id):\n",
    "    dataframe = dataframe[[\"class\", \"x_center\", \"y_center\", \"width\", \"height\"]]\n",
    "    dataframe[\"class\"] = dataframe[\"class\"] - 1\n",
    "    dataframe.to_csv(f\"data/rbk_structured/labels/train/{picture_id}.txt\", header=False, index=False, sep=\" \")"
   ]
  },
  {
   "cell_type": "code",
   "execution_count": null,
   "metadata": {},
   "outputs": [],
   "source": [
    "for picture_id, dataframe in combined.groupby(\"frame\"):\n",
    "    save_to_file(dataframe, picture_id)"
   ]
  }
 ],
 "metadata": {
  "kernelspec": {
   "display_name": "Python 3",
   "language": "python",
   "name": "python3"
  },
  "language_info": {
   "codemirror_mode": {
    "name": "ipython",
    "version": 3
   },
   "file_extension": ".py",
   "mimetype": "text/x-python",
   "name": "python",
   "nbconvert_exporter": "python",
   "pygments_lexer": "ipython3",
   "version": "3.10.12"
  }
 },
 "nbformat": 4,
 "nbformat_minor": 2
}
