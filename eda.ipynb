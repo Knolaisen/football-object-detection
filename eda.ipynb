{
 "cells": [
  {
   "cell_type": "code",
   "execution_count": null,
   "id": "b80865a4",
   "metadata": {},
   "outputs": [],
   "source": [
    "\n",
    "import pandas as pd\n",
    "import matplotlib.pyplot as plt"
   ]
  },
  {
   "cell_type": "code",
   "execution_count": null,
   "id": "b5dee13b",
   "metadata": {},
   "outputs": [],
   "source": [
    "data_path = \"data/rbk/1_train-val_1min_aalesund_from_start/gt/gt.txt\""
   ]
  },
  {
   "cell_type": "code",
   "execution_count": null,
   "id": "e7b01bc0",
   "metadata": {},
   "outputs": [],
   "source": [
    "df = pd.read_csv(data_path, sep=\",\", header=None)\n",
    "df"
   ]
  },
  {
   "cell_type": "code",
   "execution_count": null,
   "id": "0e166a91",
   "metadata": {},
   "outputs": [],
   "source": [
    "df.rename(columns={0: \"frame\", 1: \"object_number\", 2: \"x_center\", 3: \"y_center\", 4: \"width\", 5: \"height\", 6: \"off_screen\", 7: \"class\", 8: \"idk\"}, inplace=True)\n",
    "df.drop(columns=[\"off_screen\", \"idk\"], inplace=True)\n",
    "df[\"class\"] = df[\"class\"] - 1\n"
   ]
  },
  {
   "cell_type": "code",
   "execution_count": null,
   "id": "e5756359",
   "metadata": {},
   "outputs": [],
   "source": [
    "df.describe()"
   ]
  }
 ],
 "metadata": {
  "kernelspec": {
   "display_name": "Python 3",
   "language": "python",
   "name": "python3"
  },
  "language_info": {
   "codemirror_mode": {
    "name": "ipython",
    "version": 3
   },
   "file_extension": ".py",
   "mimetype": "text/x-python",
   "name": "python",
   "nbconvert_exporter": "python",
   "pygments_lexer": "ipython3",
   "version": "3.10.12"
  }
 },
 "nbformat": 4,
 "nbformat_minor": 5
}
