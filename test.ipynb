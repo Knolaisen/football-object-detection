{
 "cells": [
  {
   "cell_type": "code",
   "execution_count": null,
   "metadata": {},
   "outputs": [],
   "source": [
    "%pip install -r requirements.txt"
   ]
  },
  {
   "cell_type": "code",
   "execution_count": 1,
   "metadata": {},
   "outputs": [
    {
     "name": "stdout",
     "output_type": "stream",
     "text": [
      "The history saving thread hit an unexpected error (OperationalError('disk I/O error')).History will not be written to the database.\n"
     ]
    }
   ],
   "source": [
    "from ultralytics import YOLO"
   ]
  },
  {
   "cell_type": "code",
   "execution_count": 2,
   "metadata": {},
   "outputs": [],
   "source": [
    "model: YOLO = YOLO(\"yolo11n.pt\")\n",
    "test_image_path = \"test_images/21.jpg\""
   ]
  },
  {
   "cell_type": "code",
   "execution_count": null,
   "metadata": {},
   "outputs": [
    {
     "name": "stdout",
     "output_type": "stream",
     "text": [
      "\n",
      "image 1/1 /work/krisnol/football-object-detection/test_images/21.jpg: 384x640 18 persons, 23.3ms\n",
      "Speed: 3.5ms preprocess, 23.3ms inference, 59.2ms postprocess per image at shape (1, 3, 384, 640)\n"
     ]
    },
    {
     "data": {
      "text/plain": [
       "ultralytics.engine.results.Results object with attributes:\n",
       "\n",
       "boxes: ultralytics.engine.results.Boxes object\n",
       "keypoints: None\n",
       "masks: None\n",
       "names: {0: 'person', 1: 'bicycle', 2: 'car', 3: 'motorcycle', 4: 'airplane', 5: 'bus', 6: 'train', 7: 'truck', 8: 'boat', 9: 'traffic light', 10: 'fire hydrant', 11: 'stop sign', 12: 'parking meter', 13: 'bench', 14: 'bird', 15: 'cat', 16: 'dog', 17: 'horse', 18: 'sheep', 19: 'cow', 20: 'elephant', 21: 'bear', 22: 'zebra', 23: 'giraffe', 24: 'backpack', 25: 'umbrella', 26: 'handbag', 27: 'tie', 28: 'suitcase', 29: 'frisbee', 30: 'skis', 31: 'snowboard', 32: 'sports ball', 33: 'kite', 34: 'baseball bat', 35: 'baseball glove', 36: 'skateboard', 37: 'surfboard', 38: 'tennis racket', 39: 'bottle', 40: 'wine glass', 41: 'cup', 42: 'fork', 43: 'knife', 44: 'spoon', 45: 'bowl', 46: 'banana', 47: 'apple', 48: 'sandwich', 49: 'orange', 50: 'broccoli', 51: 'carrot', 52: 'hot dog', 53: 'pizza', 54: 'donut', 55: 'cake', 56: 'chair', 57: 'couch', 58: 'potted plant', 59: 'bed', 60: 'dining table', 61: 'toilet', 62: 'tv', 63: 'laptop', 64: 'mouse', 65: 'remote', 66: 'keyboard', 67: 'cell phone', 68: 'microwave', 69: 'oven', 70: 'toaster', 71: 'sink', 72: 'refrigerator', 73: 'book', 74: 'clock', 75: 'vase', 76: 'scissors', 77: 'teddy bear', 78: 'hair drier', 79: 'toothbrush'}\n",
       "obb: None\n",
       "orig_img: array([[[  0,   1,   0],\n",
       "        [  0,   2,   0],\n",
       "        [  0,   1,   0],\n",
       "        ...,\n",
       "        [  0,   3,   0],\n",
       "        [  0,   4,   0],\n",
       "        [  0,   5,   0]],\n",
       "\n",
       "       [[108, 111, 109],\n",
       "        [108, 111, 109],\n",
       "        [107, 110, 108],\n",
       "        ...,\n",
       "        [ 49,  55,  50],\n",
       "        [ 51,  57,  52],\n",
       "        [ 53,  59,  54]],\n",
       "\n",
       "       [[108, 111, 109],\n",
       "        [108, 111, 109],\n",
       "        [107, 110, 108],\n",
       "        ...,\n",
       "        [ 43,  50,  43],\n",
       "        [ 42,  49,  42],\n",
       "        [ 42,  49,  42]],\n",
       "\n",
       "       ...,\n",
       "\n",
       "       [[ 14,  75,  49],\n",
       "        [ 14,  75,  49],\n",
       "        [ 14,  75,  49],\n",
       "        ...,\n",
       "        [ 20,  81,  55],\n",
       "        [ 20,  81,  55],\n",
       "        [ 20,  81,  55]],\n",
       "\n",
       "       [[ 14,  75,  49],\n",
       "        [ 14,  75,  49],\n",
       "        [ 14,  75,  49],\n",
       "        ...,\n",
       "        [ 20,  81,  55],\n",
       "        [ 20,  81,  55],\n",
       "        [ 20,  81,  55]],\n",
       "\n",
       "       [[ 14,  75,  49],\n",
       "        [ 14,  75,  49],\n",
       "        [ 14,  75,  49],\n",
       "        ...,\n",
       "        [ 20,  81,  55],\n",
       "        [ 20,  81,  55],\n",
       "        [ 20,  81,  55]]], dtype=uint8)\n",
       "orig_shape: (1080, 1920)\n",
       "path: '/work/krisnol/football-object-detection/test_images/21.jpg'\n",
       "probs: None\n",
       "save_dir: 'runs/detect/predict'\n",
       "speed: {'preprocess': 3.5009669954888523, 'inference': 23.290673998417333, 'postprocess': 59.20981399685843}"
      ]
     },
     "execution_count": 3,
     "metadata": {},
     "output_type": "execute_result"
    }
   ],
   "source": [
    "results = model(test_image_path)\n",
    "results[0].show()"
   ]
  }
 ],
 "metadata": {
  "kernelspec": {
   "display_name": "Python 3",
   "language": "python",
   "name": "python3"
  },
  "language_info": {
   "codemirror_mode": {
    "name": "ipython",
    "version": 3
   },
   "file_extension": ".py",
   "mimetype": "text/x-python",
   "name": "python",
   "nbconvert_exporter": "python",
   "pygments_lexer": "ipython3",
   "version": "3.10.12"
  }
 },
 "nbformat": 4,
 "nbformat_minor": 2
}
