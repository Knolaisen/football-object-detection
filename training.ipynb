{
 "cells": [
  {
   "cell_type": "code",
   "execution_count": null,
   "metadata": {},
   "outputs": [],
   "source": [
    "from ultralytics import YOLO"
   ]
  },
  {
   "cell_type": "code",
   "execution_count": null,
   "metadata": {},
   "outputs": [],
   "source": [
    "model: YOLO = YOLO(\"models/baseline.pt\")\n",
    "data_path = \"/home/krisnol/Documents/football-object-detection/datasets/data.yaml\""
   ]
  },
  {
   "cell_type": "code",
   "execution_count": null,
   "metadata": {},
   "outputs": [],
   "source": [
    "results = model.train(\n",
    "    data=data_path,\n",
    "    epochs=1,\n",
    "    batch=16,\n",
    "    device=\"0\",\n",
    "    workers=8,\n",
    "    project=\"runs/train\",\n",
    "    name=\"baseline\",\n",
    "    exist_ok=True,\n",
    "    save_period=1,\n",
    ")\n",
    "#  /home/krisnol/Documents/data/rbk_structured/train/images\n",
    "#  /home/krisnol/Documents/football-object-detection/data/rbk_structured/val/images\n",
    "# "
   ]
  }
 ],
 "metadata": {
  "kernelspec": {
   "display_name": "Python 3",
   "language": "python",
   "name": "python3"
  },
  "language_info": {
   "codemirror_mode": {
    "name": "ipython",
    "version": 3
   },
   "file_extension": ".py",
   "mimetype": "text/x-python",
   "name": "python",
   "nbconvert_exporter": "python",
   "pygments_lexer": "ipython3",
   "version": "3.10.12"
  }
 },
 "nbformat": 4,
 "nbformat_minor": 2
}
